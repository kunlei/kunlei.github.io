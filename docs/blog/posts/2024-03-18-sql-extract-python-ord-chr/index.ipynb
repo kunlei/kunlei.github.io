{
 "cells": [
  {
   "cell_type": "markdown",
   "metadata": {},
   "source": [
    "---\n",
    "title: SQL EXTRACT() and Python ORD()/CHR()\n",
    "author: Kunlei Lian\n",
    "date: 03/18/2024\n",
    "categories:\n",
    "  - Python\n",
    "  - Matplotlib\n",
    "jupyter: 'blog'\n",
    "format:\n",
    "  html:\n",
    "    code-line-numbers: true\n",
    "    code-overflow: wrap\n",
    "    code-block-bg: true\n",
    "    code-block-border-left: true\n",
    "    highlight-style: Arrow\n",
    "---"
   ]
  },
  {
   "cell_type": "markdown",
   "metadata": {},
   "source": [
    "## A useful function in SQL"
   ]
  },
  {
   "cell_type": "markdown",
   "metadata": {},
   "source": [
    "Today I was trying to retrieve the 'year' information from a date object in SQL and learned about this `EXTRACT()` function.\n",
    "Below is an example usage in which the 'year' is identified from a date string."
   ]
  },
  {
   "cell_type": "markdown",
   "metadata": {},
   "source": [
    "```sql\n",
    "SELECT EXTRACT(YEAR FROM '2024-03-18'); -- output: 2024\n",
    "```"
   ]
  },
  {
   "cell_type": "markdown",
   "metadata": {},
   "source": [
    "It turns out the function is very powerful in retrieving various time components from a date or datetime object.\n",
    "Below is the list of possible time components:\n",
    "\n",
    "- MICROSECOND\n",
    "- SECOND\n",
    "- MINUTE\n",
    "- HOUR\n",
    "- DAY\n",
    "- WEEK\n",
    "- MONTH\n",
    "- QUARTER\n",
    "- YEAR\n",
    "- SECOND_MICROSECOND\n",
    "- MINUTE_MICROSECOND\n",
    "- MINUTE_SECOND\n",
    "- HOUR_MICROSECOND\n",
    "- HOUR_SECOND\n",
    "- HOUR_MINUTE\n",
    "- DAY_MICROSECOND\n",
    "- DAY_SECOND\n",
    "- DAY_MINUTE\n",
    "- DAY_HOUR\n",
    "- YEAR_MONTH"
   ]
  },
  {
   "cell_type": "markdown",
   "metadata": {},
   "source": [
    "Here are another two sample usages:"
   ]
  },
  {
   "cell_type": "markdown",
   "metadata": {},
   "source": [
    "```sql\n",
    "SELECT EXTRACT(MINUTE FROM \"2023-03-18 22:34:21\"); -- output: 34\n",
    "```"
   ]
  },
  {
   "cell_type": "markdown",
   "metadata": {},
   "source": [
    "```sql\n",
    "SELECT EXTRACT(DAY_HOUR FROM \"2023-03-18 22:34:21\"); -- output: 1822\n",
    "```"
   ]
  },
  {
   "cell_type": "markdown",
   "metadata": {},
   "source": [
    "## Two functions in Python"
   ]
  },
  {
   "cell_type": "markdown",
   "metadata": {},
   "source": [
    "There is always a handy function in Python when you need it and here is the pair of functions, `ord()` and `chr()`, that converts a character into a number and converts the number back.\n",
    "Their official documentation can be found [here](https://docs.python.org/3.4/library/functions.html?highlight=ord#ord) and [here](https://docs.python.org/3.4/library/functions.html?highlight=ord#chr)."
   ]
  },
  {
   "cell_type": "code",
   "execution_count": 1,
   "metadata": {},
   "outputs": [
    {
     "name": "stdout",
     "output_type": "stream",
     "text": [
      "97\n"
     ]
    }
   ],
   "source": [
    "char = 'a'\n",
    "print(ord(char))"
   ]
  },
  {
   "cell_type": "code",
   "execution_count": 2,
   "metadata": {},
   "outputs": [
    {
     "name": "stdout",
     "output_type": "stream",
     "text": [
      "a\n"
     ]
    }
   ],
   "source": [
    "num = ord(char)\n",
    "print(chr(num))"
   ]
  }
 ],
 "metadata": {
  "kernelspec": {
   "display_name": "blog",
   "language": "python",
   "name": "python3"
  },
  "language_info": {
   "codemirror_mode": {
    "name": "ipython",
    "version": 3
   },
   "file_extension": ".py",
   "mimetype": "text/x-python",
   "name": "python",
   "nbconvert_exporter": "python",
   "pygments_lexer": "ipython3",
   "version": "3.12.2"
  }
 },
 "nbformat": 4,
 "nbformat_minor": 2
}
