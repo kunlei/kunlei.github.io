{
 "cells": [
  {
   "cell_type": "markdown",
   "metadata": {},
   "source": [
    "---\n",
    "title: Multi-Objective Optimization and Pareto Front\n",
    "author: Kunlei Lian\n",
    "date: 04/02/2024\n",
    "categories:\n",
    "  - Python\n",
    "  - Multi-objective optimization\n",
    "jupyter: 'blog'\n",
    "format:\n",
    "  html:\n",
    "    code-line-numbers: true\n",
    "    code-overflow: wrap\n",
    "    code-block-bg: true\n",
    "    code-block-border-left: true\n",
    "    highlight-style: Arrow\n",
    "---"
   ]
  },
  {
   "cell_type": "markdown",
   "metadata": {},
   "source": [
    "I recently came across a multi-objective optimization problem at work and I need to identify the Pareto front - the set of non-dominating solutions among all the candidate solutions.\n",
    "I used to study multi-objective optimization problems and algorithms in my Ph.D. years, it is nice to actually use it in my work.\n",
    "In this post, I will explain some key concepts and some useful techniques:\n",
    "\n",
    "- Multi-objective optimization\n",
    "- Pareto dominance and Pareto front\n",
    "- Identify Pareto front in Python"
   ]
  },
  {
   "cell_type": "markdown",
   "metadata": {},
   "source": [
    "## Multi-Objective Optimization"
   ]
  },
  {
   "cell_type": "markdown",
   "metadata": {},
   "source": [
    "Multi-objective optimization is an area of mathematical optimization that deals with problems involving more than one objective function to be optimized simultaneously. Each objective function may represent a different criterion, and these criteria often conflict with each other. The goal in multi-objective optimization is not to find a single solution that optimizes a single criterion, but rather to find solutions that achieve a satisfactory balance among all the criteria.\n",
    "\n",
    "Multi-objective optimization is used in many fields where trade-offs between two or more outcomes must be negotiated, such as:\n",
    "\n",
    "- Engineering Design: Optimizing design parameters for competing objectives like cost, performance, and safety.\n",
    "- Economics and Finance: Balancing return and risk in portfolio management.\n",
    "- Energy Management: Managing the trade-offs between cost, environmental impact, and efficiency.\n",
    "- Logistics and Transportation: Optimizing routes and schedules to minimize costs and time while maximizing customer satisfaction.\n",
    "\n",
    "The main challenges in multi-objective optimization include handling the complexity and computational cost of finding multiple optimal solutions, choosing appropriate methods and algorithms that fit the specific characteristics of the problem, and effectively assisting decision-makers in selecting from among the set of optimal solutions based on their preferences and the trade-offs they are willing to make."
   ]
  },
  {
   "cell_type": "markdown",
   "metadata": {},
   "source": [
    "## Pareto Dominance and Pareto Front"
   ]
  },
  {
   "cell_type": "markdown",
   "metadata": {},
   "source": [
    "A solution $x$ is said to Pareto dominate another solution $y$ if and only if:\n",
    "\n",
    "1. $x$ is no worse than $y$ in all objectives, and\n",
    "2. $x$ is strictly better than $y$ in at least one objective.\n",
    "\n",
    "In mathematical terms, considering a minimization problem with objectives $f_1, f_2, \\cdots, f_k$:\n",
    "\n",
    "- $x$ Pareto dominates $y$ if for all $i \\in \\{1, 2, \\cdots, k\\}, f_i(x) \\leq f_i(y)$ and there exists at least one $j$ such that $f_i(x) < f_i(y)$.\n",
    "\n",
    "This concept allows decision-makers to sift through multiple feasible solutions to identify those that are not dominated by any other, helping them focus on the most promising solutions.\n",
    "\n",
    "The **Pareto front** consists of all solutions that are not Pareto dominated by any other solution. These solutions are also known as Pareto optimal solutions. The Pareto front is particularly useful because it contains all possible trade-offs that a decision-maker can consider, providing a clear visualization of how one can improve one objective only at the expense of another."
   ]
  },
  {
   "cell_type": "markdown",
   "metadata": {},
   "source": [
    "## Identify Pareto Front in Python"
   ]
  },
  {
   "cell_type": "markdown",
   "metadata": {},
   "source": [
    "There is a package, `paretoset`, that could help us identify all the non-dominating solutions in multi-objective optimization.\n",
    "The installation is straightforward:"
   ]
  },
  {
   "cell_type": "markdown",
   "metadata": {},
   "source": [
    "```{python}\n",
    "pip install paretoset\n",
    "```"
   ]
  },
  {
   "cell_type": "markdown",
   "metadata": {},
   "source": [
    "To illustrate the usage of this package, we will use a bi-objective optimization problem as an example.\n",
    "Suppose we identified a list of candidate solutions with corresponding objective values for this problem, as shown in the data frame below:"
   ]
  },
  {
   "cell_type": "code",
   "execution_count": 47,
   "metadata": {},
   "outputs": [
    {
     "data": {
      "text/html": [
       "<div>\n",
       "<style scoped>\n",
       "    .dataframe tbody tr th:only-of-type {\n",
       "        vertical-align: middle;\n",
       "    }\n",
       "\n",
       "    .dataframe tbody tr th {\n",
       "        vertical-align: top;\n",
       "    }\n",
       "\n",
       "    .dataframe thead th {\n",
       "        text-align: right;\n",
       "    }\n",
       "</style>\n",
       "<table border=\"1\" class=\"dataframe\">\n",
       "  <thead>\n",
       "    <tr style=\"text-align: right;\">\n",
       "      <th></th>\n",
       "      <th>obj1</th>\n",
       "      <th>obj2</th>\n",
       "    </tr>\n",
       "  </thead>\n",
       "  <tbody>\n",
       "    <tr>\n",
       "      <th>0</th>\n",
       "      <td>0.5</td>\n",
       "      <td>5.8</td>\n",
       "    </tr>\n",
       "    <tr>\n",
       "      <th>1</th>\n",
       "      <td>1.0</td>\n",
       "      <td>5.5</td>\n",
       "    </tr>\n",
       "    <tr>\n",
       "      <th>2</th>\n",
       "      <td>2.0</td>\n",
       "      <td>5.0</td>\n",
       "    </tr>\n",
       "    <tr>\n",
       "      <th>3</th>\n",
       "      <td>2.5</td>\n",
       "      <td>4.8</td>\n",
       "    </tr>\n",
       "    <tr>\n",
       "      <th>4</th>\n",
       "      <td>3.0</td>\n",
       "      <td>4.5</td>\n",
       "    </tr>\n",
       "    <tr>\n",
       "      <th>5</th>\n",
       "      <td>3.5</td>\n",
       "      <td>4.0</td>\n",
       "    </tr>\n",
       "    <tr>\n",
       "      <th>6</th>\n",
       "      <td>4.0</td>\n",
       "      <td>3.5</td>\n",
       "    </tr>\n",
       "    <tr>\n",
       "      <th>7</th>\n",
       "      <td>5.0</td>\n",
       "      <td>2.6</td>\n",
       "    </tr>\n",
       "    <tr>\n",
       "      <th>8</th>\n",
       "      <td>6.0</td>\n",
       "      <td>1.0</td>\n",
       "    </tr>\n",
       "    <tr>\n",
       "      <th>9</th>\n",
       "      <td>1.0</td>\n",
       "      <td>5.0</td>\n",
       "    </tr>\n",
       "    <tr>\n",
       "      <th>10</th>\n",
       "      <td>2.0</td>\n",
       "      <td>4.0</td>\n",
       "    </tr>\n",
       "    <tr>\n",
       "      <th>11</th>\n",
       "      <td>3.0</td>\n",
       "      <td>3.0</td>\n",
       "    </tr>\n",
       "    <tr>\n",
       "      <th>12</th>\n",
       "      <td>4.0</td>\n",
       "      <td>2.0</td>\n",
       "    </tr>\n",
       "    <tr>\n",
       "      <th>13</th>\n",
       "      <td>5.0</td>\n",
       "      <td>0.5</td>\n",
       "    </tr>\n",
       "    <tr>\n",
       "      <th>14</th>\n",
       "      <td>0.5</td>\n",
       "      <td>2.0</td>\n",
       "    </tr>\n",
       "    <tr>\n",
       "      <th>15</th>\n",
       "      <td>1.0</td>\n",
       "      <td>4.0</td>\n",
       "    </tr>\n",
       "    <tr>\n",
       "      <th>16</th>\n",
       "      <td>1.5</td>\n",
       "      <td>2.5</td>\n",
       "    </tr>\n",
       "    <tr>\n",
       "      <th>17</th>\n",
       "      <td>2.0</td>\n",
       "      <td>2.0</td>\n",
       "    </tr>\n",
       "  </tbody>\n",
       "</table>\n",
       "</div>"
      ],
      "text/plain": [
       "    obj1  obj2\n",
       "0    0.5   5.8\n",
       "1    1.0   5.5\n",
       "2    2.0   5.0\n",
       "3    2.5   4.8\n",
       "4    3.0   4.5\n",
       "5    3.5   4.0\n",
       "6    4.0   3.5\n",
       "7    5.0   2.6\n",
       "8    6.0   1.0\n",
       "9    1.0   5.0\n",
       "10   2.0   4.0\n",
       "11   3.0   3.0\n",
       "12   4.0   2.0\n",
       "13   5.0   0.5\n",
       "14   0.5   2.0\n",
       "15   1.0   4.0\n",
       "16   1.5   2.5\n",
       "17   2.0   2.0"
      ]
     },
     "execution_count": 47,
     "metadata": {},
     "output_type": "execute_result"
    }
   ],
   "source": [
    "import pandas as pd\n",
    "import matplotlib.pyplot as plt\n",
    "\n",
    "df = pd.DataFrame({'obj1': [0.5, 1.0, 2, 2.5, 3.0, 3.5, 4.0, 5.0, 6.0, 1, 2, 3, 4, 5, 0.5, 1, 1.5, 2, ], \n",
    "                   'obj2': [5.8, 5.5, 5, 4.8, 4.5, 4.0, 3.5, 2.6, 1.0, 5, 4, 3, 2, 0.5, 2, 4, 2.5, 2, ]})\n",
    "df"
   ]
  },
  {
   "cell_type": "markdown",
   "metadata": {},
   "source": [
    "Putting all the solutions in a plot creates a graph as in below:"
   ]
  },
  {
   "cell_type": "code",
   "execution_count": 48,
   "metadata": {},
   "outputs": [
    {
     "data": {
      "image/png": "[encoded data removed]",
      "text/plain": [
       "<Figure size 800x600 with 1 Axes>"
      ]
     },
     "metadata": {},
     "output_type": "display_data"
    }
   ],
   "source": [
    "fig, ax = plt.subplots(1, 1, figsize=(8, 6))\n",
    "ax.scatter(df['obj1'], df['obj2'], s=12)\n",
    "ax.set_xlabel('Objective 1')\n",
    "ax.set_ylabel('Objective 2')\n",
    "ax.set_title('All candidate solutions')\n",
    "\n",
    "for idx, row in df.iterrows():\n",
    "    ax.annotate(f'({row['obj1']}, {row['obj2']})', (row['obj1']-0.25, row['obj2'] + 0.1))\n",
    "\n",
    "fig.tight_layout()"
   ]
  },
  {
   "cell_type": "markdown",
   "metadata": {},
   "source": [
    "Assume we aim to maximize both objectives, it is clear that some solutions are *dominated* by other solutions.\n",
    "For example, the solution (0.5, 2.0) on the left is worse than the solution (2.0, 4.0) in both objectives.\n",
    "\n",
    "To use the `paretoset` package, simply pass all the objectives and their corresponding objective sense to the `paretoset` class.\n",
    "The result will indicate which solution is a non-dominated solution."
   ]
  },
  {
   "cell_type": "code",
   "execution_count": 49,
   "metadata": {},
   "outputs": [],
   "source": [
    "from paretoset import paretoset\n",
    "\n",
    "df['efficient'] = paretoset(df[['obj1', 'obj2']],\n",
    "                            sense=('max', 'max'))"
   ]
  },
  {
   "cell_type": "code",
   "execution_count": 50,
   "metadata": {},
   "outputs": [
    {
     "data": {
      "text/html": [
       "<div>\n",
       "<style scoped>\n",
       "    .dataframe tbody tr th:only-of-type {\n",
       "        vertical-align: middle;\n",
       "    }\n",
       "\n",
       "    .dataframe tbody tr th {\n",
       "        vertical-align: top;\n",
       "    }\n",
       "\n",
       "    .dataframe thead th {\n",
       "        text-align: right;\n",
       "    }\n",
       "</style>\n",
       "<table border=\"1\" class=\"dataframe\">\n",
       "  <thead>\n",
       "    <tr style=\"text-align: right;\">\n",
       "      <th></th>\n",
       "      <th>obj1</th>\n",
       "      <th>obj2</th>\n",
       "      <th>efficient</th>\n",
       "    </tr>\n",
       "  </thead>\n",
       "  <tbody>\n",
       "    <tr>\n",
       "      <th>0</th>\n",
       "      <td>0.5</td>\n",
       "      <td>5.8</td>\n",
       "      <td>True</td>\n",
       "    </tr>\n",
       "    <tr>\n",
       "      <th>1</th>\n",
       "      <td>1.0</td>\n",
       "      <td>5.5</td>\n",
       "      <td>True</td>\n",
       "    </tr>\n",
       "    <tr>\n",
       "      <th>2</th>\n",
       "      <td>2.0</td>\n",
       "      <td>5.0</td>\n",
       "      <td>True</td>\n",
       "    </tr>\n",
       "    <tr>\n",
       "      <th>3</th>\n",
       "      <td>2.5</td>\n",
       "      <td>4.8</td>\n",
       "      <td>True</td>\n",
       "    </tr>\n",
       "    <tr>\n",
       "      <th>4</th>\n",
       "      <td>3.0</td>\n",
       "      <td>4.5</td>\n",
       "      <td>True</td>\n",
       "    </tr>\n",
       "    <tr>\n",
       "      <th>5</th>\n",
       "      <td>3.5</td>\n",
       "      <td>4.0</td>\n",
       "      <td>True</td>\n",
       "    </tr>\n",
       "    <tr>\n",
       "      <th>6</th>\n",
       "      <td>4.0</td>\n",
       "      <td>3.5</td>\n",
       "      <td>True</td>\n",
       "    </tr>\n",
       "    <tr>\n",
       "      <th>7</th>\n",
       "      <td>5.0</td>\n",
       "      <td>2.6</td>\n",
       "      <td>True</td>\n",
       "    </tr>\n",
       "    <tr>\n",
       "      <th>8</th>\n",
       "      <td>6.0</td>\n",
       "      <td>1.0</td>\n",
       "      <td>True</td>\n",
       "    </tr>\n",
       "    <tr>\n",
       "      <th>9</th>\n",
       "      <td>1.0</td>\n",
       "      <td>5.0</td>\n",
       "      <td>False</td>\n",
       "    </tr>\n",
       "    <tr>\n",
       "      <th>10</th>\n",
       "      <td>2.0</td>\n",
       "      <td>4.0</td>\n",
       "      <td>False</td>\n",
       "    </tr>\n",
       "    <tr>\n",
       "      <th>11</th>\n",
       "      <td>3.0</td>\n",
       "      <td>3.0</td>\n",
       "      <td>False</td>\n",
       "    </tr>\n",
       "    <tr>\n",
       "      <th>12</th>\n",
       "      <td>4.0</td>\n",
       "      <td>2.0</td>\n",
       "      <td>False</td>\n",
       "    </tr>\n",
       "    <tr>\n",
       "      <th>13</th>\n",
       "      <td>5.0</td>\n",
       "      <td>0.5</td>\n",
       "      <td>False</td>\n",
       "    </tr>\n",
       "    <tr>\n",
       "      <th>14</th>\n",
       "      <td>0.5</td>\n",
       "      <td>2.0</td>\n",
       "      <td>False</td>\n",
       "    </tr>\n",
       "    <tr>\n",
       "      <th>15</th>\n",
       "      <td>1.0</td>\n",
       "      <td>4.0</td>\n",
       "      <td>False</td>\n",
       "    </tr>\n",
       "    <tr>\n",
       "      <th>16</th>\n",
       "      <td>1.5</td>\n",
       "      <td>2.5</td>\n",
       "      <td>False</td>\n",
       "    </tr>\n",
       "    <tr>\n",
       "      <th>17</th>\n",
       "      <td>2.0</td>\n",
       "      <td>2.0</td>\n",
       "      <td>False</td>\n",
       "    </tr>\n",
       "  </tbody>\n",
       "</table>\n",
       "</div>"
      ],
      "text/plain": [
       "    obj1  obj2  efficient\n",
       "0    0.5   5.8       True\n",
       "1    1.0   5.5       True\n",
       "2    2.0   5.0       True\n",
       "3    2.5   4.8       True\n",
       "4    3.0   4.5       True\n",
       "5    3.5   4.0       True\n",
       "6    4.0   3.5       True\n",
       "7    5.0   2.6       True\n",
       "8    6.0   1.0       True\n",
       "9    1.0   5.0      False\n",
       "10   2.0   4.0      False\n",
       "11   3.0   3.0      False\n",
       "12   4.0   2.0      False\n",
       "13   5.0   0.5      False\n",
       "14   0.5   2.0      False\n",
       "15   1.0   4.0      False\n",
       "16   1.5   2.5      False\n",
       "17   2.0   2.0      False"
      ]
     },
     "execution_count": 50,
     "metadata": {},
     "output_type": "execute_result"
    }
   ],
   "source": [
    "df"
   ]
  },
  {
   "cell_type": "markdown",
   "metadata": {},
   "source": [
    "To visualize the resulting non-dominated solutions (among all the solutions), we mark them using a different color (yellow) from the dominated solutions (purple) in the graph below."
   ]
  },
  {
   "cell_type": "code",
   "execution_count": 51,
   "metadata": {},
   "outputs": [
    {
     "data": {
      "image/png": "[encoded data removed]",
      "text/plain": [
       "<Figure size 800x600 with 1 Axes>"
      ]
     },
     "metadata": {},
     "output_type": "display_data"
    }
   ],
   "source": [
    "fig, ax = plt.subplots(1, 1, figsize=(8, 6))\n",
    "ax.scatter(df['obj1'], df['obj2'], s=12, c=df['efficient'])\n",
    "ax.set_xlabel('Objective 1')\n",
    "ax.set_ylabel('Objective 2')\n",
    "ax.set_title('All candidate solutions')\n",
    "\n",
    "for idx, row in df.iterrows():\n",
    "    ax.annotate(f'({row['obj1']}, {row['obj2']})', (row['obj1']-0.25, row['obj2'] + 0.1))\n",
    "\n",
    "fig.tight_layout()"
   ]
  }
 ],
 "metadata": {
  "kernelspec": {
   "display_name": "blog",
   "language": "python",
   "name": "python3"
  },
  "language_info": {
   "codemirror_mode": {
    "name": "ipython",
    "version": 3
   },
   "file_extension": ".py",
   "mimetype": "text/x-python",
   "name": "python",
   "nbconvert_exporter": "python",
   "pygments_lexer": "ipython3",
   "version": "3.12.2"
  }
 },
 "nbformat": 4,
 "nbformat_minor": 2
}
